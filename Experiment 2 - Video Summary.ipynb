{
 "cells": [
  {
   "cell_type": "code",
   "execution_count": 5,
   "id": "76f44b68",
   "metadata": {},
   "outputs": [],
   "source": [
    "import openai\n",
    "import os\n",
    "\n",
    "import pandas as pd"
   ]
  },
  {
   "cell_type": "code",
   "execution_count": 6,
   "id": "945a5756",
   "metadata": {},
   "outputs": [],
   "source": [
    "# I have API key saved on my PC + lastpass\n",
    "from dotenv import load_dotenv, find_dotenv\n",
    "_ = load_dotenv(find_dotenv()) # read local .env file\n",
    "\n",
    "openai.api_key  = os.getenv('OPENAI_API_KEY')"
   ]
  },
  {
   "cell_type": "code",
   "execution_count": 7,
   "id": "491605da",
   "metadata": {},
   "outputs": [],
   "source": [
    "def get_completion(prompt, model=\"gpt-3.5-turbo\"):\n",
    "    messages = [{\"role\": \"user\", \"content\": prompt}]\n",
    "    response = openai.ChatCompletion.create(\n",
    "        model=model,\n",
    "        messages=messages,\n",
    "        temperature=0, # this is the degree of randomness of the model's output\n",
    "    )\n",
    "    return response.choices[0].message[\"content\"]"
   ]
  },
  {
   "cell_type": "code",
   "execution_count": 8,
   "id": "c5b96766",
   "metadata": {},
   "outputs": [],
   "source": [
    "def get_completion_4(prompt, model=\"gpt-4-1106-preview\"):\n",
    "    messages = [{\"role\": \"user\", \"content\": prompt}]\n",
    "    response = openai.ChatCompletion.create(\n",
    "        model=model,\n",
    "        messages=messages,\n",
    "        temperature=0, # this is the degree of randomness of the model's output\n",
    "    )\n",
    "    return response.choices[0].message[\"content\"]"
   ]
  },
  {
   "cell_type": "markdown",
   "id": "174e7ac5",
   "metadata": {},
   "source": [
    "## Load Files"
   ]
  },
  {
   "cell_type": "code",
   "execution_count": 9,
   "id": "effdbd9e",
   "metadata": {},
   "outputs": [],
   "source": [
    "df = pd.read_csv('youtube_comments_with_replies.csv')\n",
    "first_column_values = '; '.join(df.iloc[:, 0].astype(str))"
   ]
  },
  {
   "cell_type": "code",
   "execution_count": 10,
   "id": "17b426d5",
   "metadata": {},
   "outputs": [],
   "source": [
    "#video text\n",
    "\n",
    "file_path = 'youtube_transcript.txt'\n",
    "\n",
    "# Open the file and read its contents\n",
    "with open(file_path, 'r') as file:\n",
    "    yt_transcript = file.read()"
   ]
  },
  {
   "cell_type": "code",
   "execution_count": 13,
   "id": "f22cd2a8",
   "metadata": {},
   "outputs": [],
   "source": [
    "updated_topics = \"\"\"1. New Player Complexity\n",
    "2. Community Feedback\n",
    "3. Alternative Modes\n",
    "4. Gameplay Fluidity\n",
    "5. Playtest Access\n",
    "6. Hype Feature\n",
    "7. Player Retention\n",
    "8. Regional Support\n",
    "9. Loot System\n",
    "10. Build Customization\n",
    "11. Team Coordination\n",
    "12. High Skill Ceiling\n",
    "13. Game Balance\n",
    "14. Visual Effects\n",
    "15. TTK Adjustments\"\"\""
   ]
  },
  {
   "cell_type": "markdown",
   "id": "a34bd4e7",
   "metadata": {},
   "source": [
    "## Summarize Text"
   ]
  },
  {
   "cell_type": "code",
   "execution_count": 15,
   "id": "f252ffd6",
   "metadata": {},
   "outputs": [
    {
     "name": "stdout",
     "output_type": "stream",
     "text": [
      "The executive producer of Project Loki provides an update on the game's development. They discuss the feedback received from the first play test and the improvements made to game performance. Two new heroes are in the prototype phase, and the team is experimenting with a universal melee ability for all heroes. They also introduce storm shifts, which are game variants that change gameplay behavior. The team is considering implementing a new meta system called \"hype\" and highlights various updates and changes in the patch notes.\n"
     ]
    }
   ],
   "source": [
    "prompt = f\"\"\"\n",
    "Your task is to generate a short summary of a video game \\\n",
    "developemtn update video. \n",
    "\n",
    "Summarize the review below, delimited by triple \n",
    "backticks, in at most 100 words. \n",
    "\n",
    "transcript: ```{yt_transcript}```\n",
    "\"\"\"\n",
    "\n",
    "response = get_completion(prompt)\n",
    "print(response)"
   ]
  },
  {
   "cell_type": "code",
   "execution_count": 16,
   "id": "74ff752f",
   "metadata": {},
   "outputs": [
    {
     "name": "stdout",
     "output_type": "stream",
     "text": [
      "New Player Complexity: NA\n",
      "Community Feedback: The team has been digging into player feedback and making changes to stabilize game performance and address crashes.\n",
      "Alternative Modes: Storm Shifts are game variants that change gameplay behavior, allowing the team to experiment and evolve the game even after launch.\n",
      "Gameplay Fluidity: Melee heroes have been redesigned to have more engaging gameplay, with opportunities for re-engagement and strategic positioning.\n",
      "Playtest Access: The upcoming 3-day playtest will have separate servers and exclusive times for EU and NA regions.\n",
      "Hype Feature: The team is experimenting with a new meta system called \"hype\" where players gain hype by eliminating other teams, with possibilities for daily resets and selecting storm shifts.\n",
      "Player Retention: NA\n",
      "Regional Support: The team is considering the feasibility of running separate regional playtests for EU and NA.\n",
      "Loot System: Players can now pre-select their perks at the start of the game and there are new perks available.\n",
      "Build Customization: NA\n",
      "Team Coordination: NA\n",
      "High Skill Ceiling: NA\n",
      "Game Balance: Various adjustments have been made, including reducing the duration of long stuns and removing the landing slow.\n",
      "Visual Effects: Melee heroes have temporary visuals with borrowed or recolored models, placeholder VFX, and sound effects.\n",
      "TTK Adjustments: The game has a fast time-to-kill, sharp hero abilities, and lethal basic attacks, allowing players to outplay others even when outnumbered.\n"
     ]
    }
   ],
   "source": [
    "prompt = f\"\"\"\n",
    "Your task is to generate a short summary of a video game \\\n",
    "development update video. You'll be given the topics \\\n",
    "that the team cares about and summarize video according to the topics.\n",
    "\n",
    "Summarize the video below, delimited by triple \n",
    "backticks, in at most 30 words per topic provided, and focusing on any topics \\\n",
    "that are provided bellow and deliminated by triple dashes (---). \n",
    "\n",
    "transcript: ```{yt_transcript}```\n",
    "Topics tags: ---{updated_topics}---\n",
    "\n",
    "Reply in the following format:\n",
    "<Topic 1 name>: <relevant update in 30 words>,\n",
    "<Topic 2 name>: <relevant update in 30 words>,\n",
    "\n",
    "ensure all topics are covered. If no relevant update mark it as\n",
    "<Topic name>: NA\n",
    "\"\"\"\n",
    "\n",
    "response = get_completion(prompt)\n",
    "print(response)"
   ]
  },
  {
   "cell_type": "code",
   "execution_count": 17,
   "id": "d24080ea",
   "metadata": {},
   "outputs": [
    {
     "name": "stdout",
     "output_type": "stream",
     "text": [
      "1. New Player Complexity: NA\n",
      "2. Community Feedback: The team valued EU playtest feedback, leading to stability improvements and crash reductions. Future playtests will consider regional needs.\n",
      "3. Alternative Modes: Introduced \"storm shifts\" for game-to-game variants, like \"Final Destination\" and \"Infinite Glider Field,\" to encourage adaptation and preserve development culture.\n",
      "4. Gameplay Fluidity: Removed landing slow, reduced long stun durations, and introduced a new Vault breaking mechanic to enhance fluidity.\n",
      "5. Playtest Access: Upcoming 3-day playtest will feature servers and exclusive times for both EU and NA regions.\n",
      "6. Hype Feature: New \"hype\" system rewards eliminations and high placements, with potential for daily resets and influence over lobby storm shifts.\n",
      "7. Player Retention: NA\n",
      "8. Regional Support: Acknowledged the challenge of running separate regional playtests but committed to providing servers and times for EU and NA in the next playtest.\n",
      "9. Loot System: Auto pick-up for duplicate items implemented, and enchanted items now grant passive effects immediately.\n",
      "10. Build Customization: New perks added, with the option to pre-select perks at game start, enhancing build customization.\n",
      "11. Team Coordination: The \"hype\" system encourages team play by rewarding squad eliminations and placements, potentially highlighting top teams.\n",
      "12. High Skill Ceiling: NA\n",
      "13. Game Balance: Melee characters redesigned for more engaging play and balance with ranged counterparts, including a universal melee ability for all heroes.\n",
      "14. Visual Effects: New hero prototypes will have temporary visuals, placeholder effects, and sometimes humorous elements, indicating an early development stage.\n",
      "15. TTK Adjustments: Emphasized a fast time-to-kill (TTK) and lethal abilities, with a focus on outplaying opponents, while considering balance for melee characters.\n"
     ]
    }
   ],
   "source": [
    "#let's try same with gpt 4\n",
    "prompt = f\"\"\"\n",
    "Your task is to generate a short summary of a video game \\\n",
    "development update video. You'll be given the topics \\\n",
    "that the team cares about and summarize video according to the topics.\n",
    "\n",
    "Summarize the video below, delimited by triple \n",
    "backticks, in at most 30 words per topic provided, and focusing on any topics \\\n",
    "that are provided bellow and deliminated by triple dashes (---). \n",
    "\n",
    "transcript: ```{yt_transcript}```\n",
    "Topics tags: ---{updated_topics}---\n",
    "\n",
    "Reply in the following format:\n",
    "<Topic 1 name>: <relevant update in 30 words>,\n",
    "<Topic 2 name>: <relevant update in 30 words>,\n",
    "\n",
    "ensure all topics are covered. If no relevant update mark it as\n",
    "<Topic name>: NA\n",
    "\"\"\"\n",
    "\n",
    "response = get_completion_4(prompt)\n",
    "print(response)"
   ]
  },
  {
   "cell_type": "code",
   "execution_count": 18,
   "id": "99a86f27",
   "metadata": {},
   "outputs": [
    {
     "name": "stdout",
     "output_type": "stream",
     "text": [
      "New Player Complexity: NA\n",
      "Community Feedback: Used EU playtest feedback to improve game performance, stabilize frame rates, and reduce crashes. Encourages feedback on new hero prototypes.\n",
      "Alternative Modes: Introduced \"storm shifts\" as game variants, like \"Final Destination\" and \"infinite glider field,\" to change gameplay and encourage adaptation.\n",
      "Gameplay Fluidity: Added universal melee ability for all heroes to disengage, especially against other melees, enhancing design space and play options.\n",
      "Playtest Access: Upcoming 3-day playtest will have servers and exclusive times for EU and NA regions.\n",
      "Hype Feature: New \"hype\" system in prototype where eliminating teams and placing high earns hype; top team highlighted as \"hype Squad.\"\n",
      "Player Retention: NA\n",
      "Regional Support: Considering feasibility of running separate regional playtests; upcoming playtest includes dedicated times for EU and NA.\n",
      "Loot System: Auto pick up of duplicate items implemented; enchanted items grant passive immediately.\n",
      "Build Customization: New perks added; players can pre-select perks at game start.\n",
      "Team Coordination: NA\n",
      "High Skill Ceiling: Melee ability reflects projectiles if timed correctly, adding depth to combat and skill expression.\n",
      "Game Balance: Addressing melee character balance by adding re-engagement opportunities and reducing 100 to 0 moments.\n",
      "Visual Effects: New heroes in Prototype phase have placeholder visual effects and sounds, indicating work in progress.\n",
      "TTK Adjustments: Emphasizes fast time-to-kill, sharp hero abilities, and lethal basic attacks, while balancing melee and ranged hero interactions.\n"
     ]
    }
   ],
   "source": [
    "# extract wording\n",
    "prompt = f\"\"\"\n",
    "Your task is to extract relevant information from a video game \\\n",
    "development update video. You'll be given the topics \\\n",
    "that the team cares about and extract information from the video according to the topics.\n",
    "\n",
    "Extract info from the video below, delimited by triple \n",
    "backticks, in at most 30 words per topic provided, and focusing on any topics \\\n",
    "that are provided bellow and deliminated by triple dashes (---). \n",
    "\n",
    "transcript: ```{yt_transcript}```\n",
    "Topics tags: ---{updated_topics}---\n",
    "\n",
    "Reply in the following format:\n",
    "<Topic 1 name>: <relevant update in 30 words>,\n",
    "<Topic 2 name>: <relevant update in 30 words>,\n",
    "\n",
    "ensure all topics are covered. If no relevant update mark it as\n",
    "<Topic name>: NA\n",
    "\"\"\"\n",
    "\n",
    "response = get_completion_4(prompt)\n",
    "print(response)"
   ]
  },
  {
   "cell_type": "code",
   "execution_count": null,
   "id": "cf679fea",
   "metadata": {},
   "outputs": [],
   "source": []
  }
 ],
 "metadata": {
  "kernelspec": {
   "display_name": "Python 3 (ipykernel)",
   "language": "python",
   "name": "python3"
  },
  "language_info": {
   "codemirror_mode": {
    "name": "ipython",
    "version": 3
   },
   "file_extension": ".py",
   "mimetype": "text/x-python",
   "name": "python",
   "nbconvert_exporter": "python",
   "pygments_lexer": "ipython3",
   "version": "3.10.10"
  }
 },
 "nbformat": 4,
 "nbformat_minor": 5
}
