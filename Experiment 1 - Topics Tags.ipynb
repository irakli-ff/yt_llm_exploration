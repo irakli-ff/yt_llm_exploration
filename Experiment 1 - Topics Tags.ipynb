{
 "cells": [
  {
   "cell_type": "markdown",
   "id": "65360743",
   "metadata": {},
   "source": [
    "### GPT Setup"
   ]
  },
  {
   "cell_type": "code",
   "execution_count": 2,
   "id": "ef0ad9e6",
   "metadata": {},
   "outputs": [],
   "source": [
    "import openai\n",
    "import os\n",
    "\n",
    "import pandas as pd"
   ]
  },
  {
   "cell_type": "code",
   "execution_count": null,
   "id": "c4917189",
   "metadata": {},
   "outputs": [],
   "source": [
    "# I have API key saved on my PC + lastpass\n",
    "from dotenv import load_dotenv, find_dotenv\n",
    "_ = load_dotenv(find_dotenv()) # read local .env file\n",
    "\n",
    "openai.api_key  = os.getenv('OPENAI_API_KEY')"
   ]
  },
  {
   "cell_type": "code",
   "execution_count": 3,
   "id": "3cd5ccc7",
   "metadata": {},
   "outputs": [],
   "source": [
    "def get_completion(prompt, model=\"gpt-3.5-turbo\"):\n",
    "    messages = [{\"role\": \"user\", \"content\": prompt}]\n",
    "    response = openai.ChatCompletion.create(\n",
    "        model=model,\n",
    "        messages=messages,\n",
    "        temperature=0, # this is the degree of randomness of the model's output\n",
    "    )\n",
    "    return response.choices[0].message[\"content\"]"
   ]
  },
  {
   "cell_type": "code",
   "execution_count": 21,
   "id": "be3fe1a0",
   "metadata": {},
   "outputs": [],
   "source": [
    "def get_completion_4(prompt, model=\"gpt-4-1106-preview\"):\n",
    "    messages = [{\"role\": \"user\", \"content\": prompt}]\n",
    "    response = openai.ChatCompletion.create(\n",
    "        model=model,\n",
    "        messages=messages,\n",
    "        temperature=0, # this is the degree of randomness of the model's output\n",
    "    )\n",
    "    return response.choices[0].message[\"content\"]"
   ]
  },
  {
   "cell_type": "markdown",
   "id": "7cbc7650",
   "metadata": {},
   "source": [
    "### Load Comments"
   ]
  },
  {
   "cell_type": "code",
   "execution_count": 10,
   "id": "89e4e41e",
   "metadata": {},
   "outputs": [],
   "source": [
    "df = pd.read_csv('youtube_comments_with_replies.csv')\n",
    "first_column_values = '; '.join(df.iloc[:, 0].astype(str))"
   ]
  },
  {
   "cell_type": "markdown",
   "id": "546d14ac",
   "metadata": {},
   "source": [
    "### Prompting for topic tags"
   ]
  },
  {
   "cell_type": "code",
   "execution_count": 17,
   "id": "217dac22",
   "metadata": {},
   "outputs": [
    {
     "name": "stdout",
     "output_type": "stream",
     "text": [
      "The list of topic tags covered in the comments are:\n",
      "\n",
      "1. Playtest potential\n",
      "2. New player experience\n",
      "3. Abilities and consumables\n",
      "4. Battle royale map\n",
      "5. Feedback from users\n",
      "6. Different game modes\n",
      "7. Similarities to other games (Battlerite, League of Legends)\n",
      "8. Gameplay mechanics\n",
      "9. Hype mechanic\n",
      "10. Comparison to other games (Gigantic, League of Legends)\n",
      "11. Asian playerbase\n",
      "12. Auto pick-up and pre-picking perks\n",
      "13. Hype squad mechanics\n",
      "14. Game balance and class imbalance\n",
      "15. Melee characters and mobility\n"
     ]
    }
   ],
   "source": [
    "## attempt 1\n",
    "prompt = f\"\"\"\n",
    "You will be provided with a text deliminated by tripple backticks.\n",
    "The text contains a comments from an youtube video, each comment separated by ; symbol.\n",
    "The video is from a small gaming company and about their game's playtest. \n",
    "Your task is to help the gaming company to come up with the list of topic tags that are covered in the comments.\n",
    "\n",
    "Number of topics must be limited to 15.\n",
    "Each topic should be at most 1-3 words, thing like gameplay, charachter diversity, other games similarity, and so on.\n",
    "\n",
    "Youtube Comments: ```{first_column_values}```\n",
    "\"\"\"\n",
    "response = get_completion(prompt)\n",
    "print(response)"
   ]
  },
  {
   "cell_type": "code",
   "execution_count": 18,
   "id": "f83e04c0",
   "metadata": {},
   "outputs": [
    {
     "data": {
      "text/plain": [
       "81"
      ]
     },
     "execution_count": 18,
     "metadata": {},
     "output_type": "execute_result"
    }
   ],
   "source": [
    "len(response.split())"
   ]
  },
  {
   "cell_type": "code",
   "execution_count": 20,
   "id": "11898219",
   "metadata": {},
   "outputs": [
    {
     "name": "stdout",
     "output_type": "stream",
     "text": [
      "Topic tags:\n",
      "1. Playtest feedback\n",
      "2. New players\n",
      "3. Abilities\n",
      "4. Consumables\n",
      "5. Items\n",
      "6. PvE objectives\n",
      "7. PvP\n",
      "8. Battle royale map\n",
      "9. League/Dota2 style map\n",
      "10. 3v3 mode\n",
      "11. Similarities to Battlerite\n",
      "12. Gameplay\n",
      "13. Hype mechanic\n",
      "14. Game potential\n",
      "15. Character balance\n"
     ]
    }
   ],
   "source": [
    "## attempt 2 - details about the audience\n",
    "prompt = f\"\"\"\n",
    "You will be provided with a text deliminated by tripple backticks.\n",
    "The text contains a comments from an youtube video, each comment separated by ; symbol.\n",
    "The video is from a small gaming company and about their game's playtest. \n",
    "Your task is to help the gaming company to come up with the list of topic tags that are covered in the comments.\n",
    "\n",
    "These topics are intended for game developers, so it should be precise in nature, short, and focus topics that are relevant for\n",
    "them to action on. They already know these contain feedback about the playtest and the game\n",
    "\n",
    "Number of topics must be limited to 15.\n",
    "Each topic should be at most 1-3 words, thing like gameplay, charachter diversity, other games similarity, and so on.\n",
    "\n",
    "Youtube Comments: ```{first_column_values}```\n",
    "\"\"\"\n",
    "response = get_completion(prompt)\n",
    "print(response)"
   ]
  },
  {
   "cell_type": "code",
   "execution_count": 22,
   "id": "28c9e9c2",
   "metadata": {},
   "outputs": [
    {
     "name": "stdout",
     "output_type": "stream",
     "text": [
      "1. New Player Experience\n",
      "2. User Feedback\n",
      "3. Game Modes\n",
      "4. Gameplay Smoothness\n",
      "5. Playtest Accessibility\n",
      "6. Hype Mechanic\n",
      "7. Player Base Concerns\n",
      "8. Regional Availability\n",
      "9. Auto Pick-up Feature\n",
      "10. Character Builds\n",
      "11. Squad Dynamics\n",
      "12. Skill Cap\n",
      "13. Balance & Fairness\n",
      "14. Visual Clarity\n",
      "15. Time-to-Kill (TTK)\n"
     ]
    }
   ],
   "source": [
    "## attempt 4 - try using gpt4 model\n",
    "prompt = f\"\"\"\n",
    "You will be provided with a text deliminated by tripple backticks.\n",
    "The text contains a comments from an youtube video, each comment separated by ; symbol.\n",
    "The video is from a small gaming company and about their game's playtest. \n",
    "Your task is to help the gaming company to come up with the list of topic tags that are covered in the comments.\n",
    "\n",
    "These topics are intended for game developers, so it should be precise in nature, short, and focus topics that are relevant for\n",
    "them to action on. They already know these contain feedback about the playtest and the game\n",
    "\n",
    "Number of topics must be limited to 15.\n",
    "Each topic should be at most 1-3 words, thing like gameplay, charachter diversity, other games similarity, and so on.\n",
    "\n",
    "Youtube Comments: ```{first_column_values}```\n",
    "\"\"\"\n",
    "response = get_completion_4(prompt)\n",
    "print(response)"
   ]
  },
  {
   "cell_type": "code",
   "execution_count": 27,
   "id": "fa45a100",
   "metadata": {},
   "outputs": [],
   "source": [
    "#load initial topic list into a variable\n",
    "initial_topics = \"1. New Player Experience \\\n",
    "2. User Feedback \\\n",
    "3. Game Modes \\\n",
    "4. Gameplay Smoothness \\\n",
    "5. Playtest Accessibility \\\n",
    "6. Hype Mechanic \\\n",
    "7. Player Base Concerns \\\n",
    "8. Regional Availability \\\n",
    "9. Auto Pick-up Feature \\\n",
    "10. Character Builds \\\n",
    "11. Squad Dynamics \\\n",
    "12. Skill Cap \\\n",
    "13. Balance & Fairness \\\n",
    "14. Visual Clarity \\\n",
    "15. Time-to-Kill (TTK)\""
   ]
  },
  {
   "cell_type": "code",
   "execution_count": 28,
   "id": "11056513",
   "metadata": {},
   "outputs": [
    {
     "name": "stdout",
     "output_type": "stream",
     "text": [
      "Revised Tags:\n",
      "\n",
      "1. New Player Complexity\n",
      "2. Community Feedback\n",
      "3. Alternative Modes\n",
      "4. Gameplay Fluidity\n",
      "5. Playtest Access\n",
      "6. Hype Feature\n",
      "7. Player Retention\n",
      "8. Regional Support\n",
      "9. Loot System\n",
      "10. Build Customization\n",
      "11. Team Coordination\n",
      "12. High Skill Ceiling\n",
      "13. Game Balance\n",
      "14. Visual Effects\n",
      "15. TTK Adjustments\n",
      "\n",
      "Explanation of Changes:\n",
      "\n",
      "- \"New Player Experience\" was changed to \"New Player Complexity\" to focus on the complexity issues new players face.\n",
      "- \"User Feedback\" was changed to \"Community Feedback\" to encompass a broader range of input from the game's community.\n",
      "- \"Game Modes\" was changed to \"Alternative Modes\" to highlight the interest in different game mode options beyond the standard offering.\n",
      "- \"Gameplay Smoothness\" was changed to \"Gameplay Fluidity\" to emphasize the importance of seamless gameplay.\n",
      "- \"Playtest Accessibility\" was changed to \"Playtest Access\" for brevity.\n",
      "- \"Hype Mechanic\" was changed to \"Hype Feature\" to align with the terminology used in the comments.\n",
      "- \"Player Base Concerns\" was changed to \"Player Retention\" to focus on the concern of keeping players engaged over time.\n",
      "- \"Regional Availability\" was changed to \"Regional Support\" to emphasize the need for support in various regions, not just availability.\n",
      "- \"Auto Pick-up Feature\" was changed to \"Loot System\" to encompass the entire loot system, including auto pick-up.\n",
      "- \"Character Builds\" was changed to \"Build Customization\" to emphasize the customization aspect of character builds.\n",
      "- \"Squad Dynamics\" was kept as is, as it accurately reflects the comments regarding team play.\n",
      "- \"Skill Cap\" was changed to \"High Skill Ceiling\" to highlight the desire for a game that rewards high skill.\n",
      "- \"Balance & Fairness\" was changed to \"Game Balance\" for brevity and to focus on overall game balance.\n",
      "- \"Visual Clarity\" was kept as is, as it is a clear and concise term that reflects concerns about visual effects in the game.\n",
      "- \"Time-to-Kill (TTK)\" was changed to \"TTK Adjustments\" to focus on the need for adjustments to the TTK based on feedback.\n"
     ]
    }
   ],
   "source": [
    "## attempt 5 - ask it to improve the list with gpt 4 model\n",
    "\n",
    "prompt = f\"\"\"\n",
    "You will be provided with a text deliminated by tripple backticks.\n",
    "The text contains a comments from an youtube video, each comment separated by ; symbol.\n",
    "The video is from a small gaming company and about their game's playtest.\n",
    "\n",
    "Your task is to help the gaming company to improve the list of topic tags for the comments.\n",
    "You will be provided with the topics list that are deliminated by triple dashes ---.\n",
    "Review the topics, assess their relevance, modify naming, remove irrelevent ones if any, and add new ones, if any.\n",
    "\n",
    "These topics are intended for game developers, so it should be precise in nature, short, and focus topics that are relevant for\n",
    "them to action on. They already know these contain feedback about the playtest and the game\n",
    "\n",
    "Number of topics must be limited to 15.\n",
    "Each topic should be at most 1-3 words, thing like gameplay, charachter diversity, other games similarity, and so on.\n",
    "\n",
    "Youtube Comments: ```{first_column_values}```\n",
    "current Tags: ---{initial_topics}---\n",
    "\n",
    "\"\"\"\n",
    "response = get_completion_4(prompt)\n",
    "print(response)"
   ]
  },
  {
   "cell_type": "code",
   "execution_count": null,
   "id": "864e2414",
   "metadata": {},
   "outputs": [],
   "source": []
  }
 ],
 "metadata": {
  "kernelspec": {
   "display_name": "Python 3 (ipykernel)",
   "language": "python",
   "name": "python3"
  },
  "language_info": {
   "codemirror_mode": {
    "name": "ipython",
    "version": 3
   },
   "file_extension": ".py",
   "mimetype": "text/x-python",
   "name": "python",
   "nbconvert_exporter": "python",
   "pygments_lexer": "ipython3",
   "version": "3.10.10"
  }
 },
 "nbformat": 4,
 "nbformat_minor": 5
}
